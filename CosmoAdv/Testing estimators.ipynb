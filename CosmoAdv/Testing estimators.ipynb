{
 "cells": [
  {
   "cell_type": "markdown",
   "metadata": {},
   "source": [
    "# Testing different estimators\n",
    "\n",
    "In this notebook we wil test different possible estimators for \n",
    "combining several measurements of Hubble's constant $H_0$.\n",
    "\n",
    "We would like to know which of the following estimators \n",
    "gives better performance (in general, performance means low variance).\n",
    "\n",
    "Team 1. uses as an estimator the first avilable measurment and discards the rest:\n",
    "\n",
    "$\\hat{H}_1=H_{0,1}$\n",
    "\n",
    "Team 2. uses as an estimator the sample average of the available measurements:\n",
    "\n",
    "$\\hat{H}_2=1/N\\sum_i H_{0,i}$\n",
    "\n",
    "Team 3. uses the inverse of the mean of the inverse of the available measurements:\n",
    "\n",
    "$\\hat{H}_3=\\frac{1}{1/N\\sum_i1/H_{0,i}}$\n",
    "\n",
    "Team 4. uses the ninth available measruement:\n",
    "\n",
    "$\\hat{H}_4=H_{0,8}$\n",
    "\n",
    "Finally, team 5. uses the inverse-variance weighted mean:\n",
    "\n",
    "$\\hat{H}_5=\\frac{1}{\\sum_i 1/\\sigma_i^2}\\sum\\frac{H_{0,i}}{\\sigma_i^2}$\n",
    "\n",
    "Let's use a Monte Carlo method to decide which one is best!"
   ]
  },
  {
   "cell_type": "code",
   "execution_count": 4,
   "metadata": {
    "collapsed": false
   },
   "outputs": [],
   "source": [
    "## This line will make plots appear inline\n",
    "%matplotlib inline\n",
    "## other useful modules\n",
    "import scipy\n",
    "import random\n",
    "from scipy import random"
   ]
  },
  {
   "cell_type": "code",
   "execution_count": 5,
   "metadata": {
    "collapsed": false
   },
   "outputs": [],
   "source": [
    "## We will do NMC realizations, and put the value of\n",
    "## each estimator in a variable H1,...,H5\n",
    "NMC=1000\n",
    "H1=scipy.zeros(NMC)\n",
    "H2=scipy.zeros(NMC)\n",
    "H3=scipy.zeros(NMC)\n",
    "H4=scipy.zeros(NMC)\n",
    "H5=scipy.zeros(NMC)\n"
   ]
  },
  {
   "cell_type": "code",
   "execution_count": 6,
   "metadata": {
    "collapsed": false
   },
   "outputs": [],
   "source": [
    "## let's assume we have 10 measurements in each realization\n",
    "N_measurements=10\n",
    "H0 = 70. ## fiducial value km/s/Mpc\n",
    "## these are the uncertaintied in each measurement\n",
    "## choses in a completely arbitrary way\n",
    "sigma = scipy.array([1., 2., 6., 6., 5., 9., 2., 8., 15., 0.5])\n",
    "for i in range(NMC):\n",
    "    H = H0 + sigma*random.randn(N_measurements) ## this is an array of 10 entries\n",
    "    H1[i] = H[0] ## get the first element\n",
    "    H2[i] = scipy.mean(H)\n",
    "    H3[i] = 1/scipy.mean(1/H)\n",
    "    H4[i] = H[8] ## get the eight element\n",
    "    H5[i] = scipy.sum(H/sigma**2)/scipy.sum(1/sigma**2)"
   ]
  },
  {
   "cell_type": "code",
   "execution_count": 7,
   "metadata": {
    "collapsed": false
   },
   "outputs": [
    {
     "data": {
      "text/plain": [
       "<matplotlib.legend.Legend at 0x106317ed0>"
      ]
     },
     "execution_count": 7,
     "metadata": {},
     "output_type": "execute_result"
    },
    {
     "data": {
      "image/png": "[encoded data removed]",
      "text/plain": [
       "<matplotlib.figure.Figure at 0x106373d50>"
      ]
     },
     "metadata": {},
     "output_type": "display_data"
    }
   ],
   "source": [
    "## do the histograms\n",
    "hist(H1, bins=100, alpha=0.5, linewidth=0, range=(50,100), label=\"H1\")\n",
    "hist(H2, bins=100, alpha=0.5, linewidth=0, range=(50,100), label=\"H2\")\n",
    "hist(H3, bins=100, alpha=0.5, linewidth=0, range=(50,100), label=\"H3\")\n",
    "hist(H4, bins=100, alpha=0.5, linewidth=0, range=(50,100), label=\"H4\")\n",
    "hist(H5, bins=100, alpha=0.5, linewidth=0, range=(50,100), label=\"H5\")\n",
    "legend()"
   ]
  },
  {
   "cell_type": "code",
   "execution_count": 8,
   "metadata": {
    "collapsed": false
   },
   "outputs": [
    {
     "name": "stdout",
     "output_type": "stream",
     "text": [
      "mean(H1): 70.0178511388 STD(H1): 1.07188166178\n",
      "mean(H2): 70.0127406018 STD(H2): 2.26094598857\n",
      "mean(H3): 69.3450578798 STD(H3): 2.50177352734\n",
      "mean(H4): 69.9590317306 STD(H4): 15.3009257111\n",
      "mean(H5): 69.9887199686 STD(H5): 0.438059151021\n"
     ]
    }
   ],
   "source": [
    "## print the means and variances\n",
    "print \"mean(H1): {} STD(H1): {}\".format(scipy.mean(H1),scipy.std(H1))\n",
    "print \"mean(H2): {} STD(H2): {}\".format(scipy.mean(H2),scipy.std(H2))\n",
    "print \"mean(H3): {} STD(H3): {}\".format(scipy.mean(H3),scipy.std(H3))\n",
    "print \"mean(H4): {} STD(H4): {}\".format(scipy.mean(H4),scipy.std(H4))\n",
    "print \"mean(H5): {} STD(H5): {}\".format(scipy.mean(H5),scipy.std(H5))\n",
    "\n"
   ]
  },
  {
   "cell_type": "markdown",
   "metadata": {
    "collapsed": true
   },
   "source": [
    "great!! Team 5. has the lowest variance estimator!"
   ]
  },
  {
   "cell_type": "code",
   "execution_count": null,
   "metadata": {
    "collapsed": true
   },
   "outputs": [],
   "source": []
  }
 ],
 "metadata": {
  "anaconda-cloud": {},
  "kernelspec": {
   "display_name": "Python [conda env:anaconda2]",
   "language": "python",
   "name": "conda-env-anaconda2-py"
  },
  "language_info": {
   "codemirror_mode": {
    "name": "ipython",
    "version": 2
   },
   "file_extension": ".py",
   "mimetype": "text/x-python",
   "name": "python",
   "nbconvert_exporter": "python",
   "pygments_lexer": "ipython2",
   "version": "2.7.12"
  }
 },
 "nbformat": 4,
 "nbformat_minor": 1
}
