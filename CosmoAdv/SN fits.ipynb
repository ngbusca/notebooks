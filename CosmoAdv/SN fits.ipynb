{
 "cells": [
  {
   "cell_type": "code",
   "execution_count": null,
   "metadata": {
    "collapsed": false
   },
   "outputs": [],
   "source": [
    "from __future__ import print_function\n",
    "%matplotlib inline\n",
    "import scipy as sp\n",
    "from scipy.interpolate import interp1d\n",
    "import iminuit\n",
    "from matplotlib.pyplot import errorbar, plot, contour, hist2d, grid, hist\n",
    "from scipy import random\n",
    "import emcee\n",
    "import corner"
   ]
  },
  {
   "cell_type": "code",
   "execution_count": null,
   "metadata": {
    "collapsed": false
   },
   "outputs": [],
   "source": [
    "data=sp.loadtxt('data/SCPUnion2.1_mu_vs_z.txt',usecols=(1,2,3))\n",
    "z = data[:,0]\n",
    "M = data[:,1]\n",
    "dM = data[:,2]\n",
    "## plot data:\n",
    "errorbar(z, M, yerr = dM, fmt = \"o\")"
   ]
  },
  {
   "cell_type": "code",
   "execution_count": null,
   "metadata": {
    "collapsed": true
   },
   "outputs": [],
   "source": [
    "def hubble(z, H0, Om, OL):\n",
    "    H = H0*sp.sqrt(Om*(1+z)**3 + OL + (1-Om-OL)*(1+z)**2)\n",
    "    return H"
   ]
  },
  {
   "cell_type": "code",
   "execution_count": null,
   "metadata": {
    "collapsed": true
   },
   "outputs": [],
   "source": [
    "nbins=10000\n",
    "zmax = 2.\n",
    "zs = sp.arange(nbins, dtype=float)/(nbins-1)*zmax\n",
    "dz = zmax/nbins\n",
    "c = 300000. ## km/s\n",
    "def D_L(H0, Om, OL):\n",
    "    chi = (dz*H0/hubble(zs, H0, Om, OL)).cumsum()\n",
    "    chi = interp1d(zs, chi)(z)\n",
    "    Ok = 1-Om-OL\n",
    "    if Ok==0:\n",
    "        return c/H0*(1+z)*chi\n",
    "    if Ok > 0:\n",
    "        return c/H0*(1+z)*sp.sinh(sp.sqrt(Ok)*chi)/sp.sqrt(Ok)\n",
    "    if Ok<0:\n",
    "        return c/H0*(1+z)*sp.sin(sp.sqrt(-Ok)*chi)/sp.sqrt(-Ok)\n",
    "    "
   ]
  },
  {
   "cell_type": "code",
   "execution_count": null,
   "metadata": {
    "collapsed": true
   },
   "outputs": [],
   "source": [
    "## distance modulus\n",
    "def mu(H0, Om, OL):\n",
    "    d_pc = D_L(H0, Om, OL)*1e6\n",
    "    return 5*sp.log10(d_pc)-5"
   ]
  },
  {
   "cell_type": "code",
   "execution_count": null,
   "metadata": {
    "collapsed": false
   },
   "outputs": [],
   "source": [
    "errorbar(z, M, yerr = dM, fmt = \"o\")\n",
    "plot(z, mu(70., 0.3, 0.7),\"o\")\n",
    "grid()"
   ]
  },
  {
   "cell_type": "code",
   "execution_count": null,
   "metadata": {
    "collapsed": true
   },
   "outputs": [],
   "source": [
    "def chi2(H0, Om, OL):\n",
    "    res = (M - mu(H0, Om, OL))/dM\n",
    "    return (res**2).sum()"
   ]
  },
  {
   "cell_type": "code",
   "execution_count": null,
   "metadata": {
    "collapsed": false
   },
   "outputs": [],
   "source": [
    "mig = iminuit.Minuit(chi2, H0=70., Om=0.3, \n",
    "        OL=0.7, error_H0=1, error_Om=0.1, error_OL=0.1,\n",
    "        errordef=1)"
   ]
  },
  {
   "cell_type": "code",
   "execution_count": null,
   "metadata": {
    "collapsed": false,
    "scrolled": false
   },
   "outputs": [],
   "source": [
    "fmin = mig.migrad()\n",
    "print(\"Number of data points: \",len(M))"
   ]
  },
  {
   "cell_type": "code",
   "execution_count": null,
   "metadata": {
    "collapsed": false
   },
   "outputs": [],
   "source": [
    "nOm = 40\n",
    "Om = 0.5*sp.arange(nOm, dtype=float)/(nOm-1)\n",
    "nOL = 40\n",
    "OL = 0.2+1.*sp.arange(nOL, dtype=float)/(nOL-1)\n",
    "chi2_scan = sp.zeros((nOL, nOm))\n",
    "for i in range(nOm):\n",
    "    print('\\rdoing chi2 scan {}%'.format(round(i*100./nOm,2)), end='')\n",
    "    for j in range(nOL):\n",
    "        H2 = Om[i]*(1+zs)**3 + OL[j] + (1-Om[i]-OL[j])*(1+zs)**2\n",
    "        if (H2<=0).any():\n",
    "            chi2_scan[j, i] = sp.inf\n",
    "            continue\n",
    "        mig_scan = iminuit.Minuit(chi2, H0=70., Om=Om[i], \n",
    "        OL=OL[j], error_H0=1, error_Om=0.1, error_OL=0.1,\n",
    "        errordef=1, fix_Om=True, fix_OL=True, print_level=0, limit_H0 = (0, None))\n",
    "        mig_scan.migrad()\n",
    "        chi2_scan[j, i] = mig_scan.fval-mig.fval\n",
    "print('\\ndone')"
   ]
  },
  {
   "cell_type": "code",
   "execution_count": null,
   "metadata": {
    "collapsed": false
   },
   "outputs": [],
   "source": [
    "#contourf(Om, OL, sp.log10(chi2_scan))\n",
    "#colorbar()\n",
    "contour(Om, OL, chi2_scan, levels=[2.3, 6., 11.8], colors=\"k\")\n",
    "plot(Om,1-Om,\"k--\")"
   ]
  },
  {
   "cell_type": "code",
   "execution_count": null,
   "metadata": {
    "collapsed": false
   },
   "outputs": [],
   "source": [
    "NMC = 500\n",
    "Om_mc = sp.zeros(NMC)\n",
    "OL_mc = sp.zeros(NMC)\n",
    "mig_mc = iminuit.Minuit(chi2, H0=70., Om=0.3, \n",
    "        OL=0.7, error_H0=1, error_Om=0.1, error_OL=0.1,\n",
    "        errordef=1, print_level=0)\n",
    "for i in range(NMC):\n",
    "    ## get the distance modulus for the best fit parameters\n",
    "    M = mu(mig.values['H0'], mig.values['Om'], mig.values['OL'])\n",
    "    M += dM*random.randn(len(M))\n",
    "    fmin = mig_mc.migrad()\n",
    "    print(\"\\riteration: {} of {}, Om: {}, OL: {}\".format(i, NMC, mig_mc.values['Om'], mig_mc.values['OL']), end='')\n",
    "    Om_mc[i] = mig_mc.values['Om']\n",
    "    OL_mc[i] = mig_mc.values['OL']\n",
    "    "
   ]
  },
  {
   "cell_type": "code",
   "execution_count": null,
   "metadata": {
    "collapsed": false
   },
   "outputs": [],
   "source": [
    "contour(Om, OL, chi2_scan, levels=[2.3, 6, 11.8], colors=\"k\")\n",
    "plot(Om,1-Om,\"k--\")\n",
    "plot(Om_mc, OL_mc, \"o\")"
   ]
  },
  {
   "cell_type": "code",
   "execution_count": null,
   "metadata": {
    "collapsed": true
   },
   "outputs": [],
   "source": [
    "data=sp.loadtxt('data/SCPUnion2.1_mu_vs_z.txt',usecols=(1,2,3))\n",
    "z = data[:,0]\n",
    "M = data[:,1]\n",
    "dM = data[:,2]"
   ]
  },
  {
   "cell_type": "code",
   "execution_count": null,
   "metadata": {
    "collapsed": true
   },
   "outputs": [],
   "source": [
    "def lnprob(pars):\n",
    "    H0 = pars[0]\n",
    "    Om = pars[1]\n",
    "    OL = pars[2]\n",
    "    if H0<0:\n",
    "        return -sp.inf\n",
    "    H2 = H0**2*(Om*(1+z)**2 + OL + (1-Om-OL)*(1+z)**2)\n",
    "    if (H2<0).any():\n",
    "        return -sp.inf\n",
    "    \n",
    "    return -0.5*chi2(H0, Om, OL)"
   ]
  },
  {
   "cell_type": "code",
   "execution_count": null,
   "metadata": {
    "collapsed": false
   },
   "outputs": [],
   "source": [
    "ndim, nwalkers = 3, 50\n",
    "Om0 = 0.3 + 0.01*random.randn(nwalkers)\n",
    "OL0 = 0.7 + 0.01*random.randn(nwalkers)\n",
    "H0 = 70. + 0.01*random.rand(nwalkers)\n",
    "sampler = emcee.EnsembleSampler(nwalkers, ndim, lnprob)"
   ]
  },
  {
   "cell_type": "code",
   "execution_count": null,
   "metadata": {
    "collapsed": false
   },
   "outputs": [],
   "source": [
    "pos, prob, state = sampler.run_mcmc(sp.array([H0, Om0, OL0]).T, 500)"
   ]
  },
  {
   "cell_type": "code",
   "execution_count": null,
   "metadata": {
    "collapsed": false
   },
   "outputs": [],
   "source": [
    "for i in range(nwalkers):\n",
    "    plot(sampler.chain[i,:,2],\"k\")"
   ]
  },
  {
   "cell_type": "code",
   "execution_count": null,
   "metadata": {
    "collapsed": false
   },
   "outputs": [],
   "source": [
    "_=hist2d(sampler.chain[:,100:,1].flatten(), sampler.chain[:,100:,2].flatten(), bins=40)"
   ]
  },
  {
   "cell_type": "code",
   "execution_count": null,
   "metadata": {
    "collapsed": false
   },
   "outputs": [],
   "source": [
    "_=hist(sampler.chain[:,100:,1].flatten(), bins=100)"
   ]
  },
  {
   "cell_type": "code",
   "execution_count": null,
   "metadata": {
    "collapsed": false
   },
   "outputs": [],
   "source": [
    "samples = sampler.chain[:,100:,:].reshape([-1, ndim])"
   ]
  },
  {
   "cell_type": "code",
   "execution_count": null,
   "metadata": {
    "collapsed": false
   },
   "outputs": [],
   "source": [
    "corner.corner(samples[:,:])"
   ]
  },
  {
   "cell_type": "code",
   "execution_count": null,
   "metadata": {
    "collapsed": false
   },
   "outputs": [],
   "source": [
    "contour(Om, OL, chi2_scan, levels=[2.3, 6, 11.8], colors=\"k\")\n",
    "plot(Om,1-Om,\"k--\")\n",
    "plot(samples[:,1], samples[:,2], \"o\", alpha=0.05)"
   ]
  }
 ],
 "metadata": {
  "anaconda-cloud": {},
  "kernelspec": {
   "display_name": "Python [conda env:anaconda2]",
   "language": "python",
   "name": "conda-env-anaconda2-py"
  },
  "language_info": {
   "codemirror_mode": {
    "name": "ipython",
    "version": 2
   },
   "file_extension": ".py",
   "mimetype": "text/x-python",
   "name": "python",
   "nbconvert_exporter": "python",
   "pygments_lexer": "ipython2",
   "version": "2.7.12"
  }
 },
 "nbformat": 4,
 "nbformat_minor": 1
}
