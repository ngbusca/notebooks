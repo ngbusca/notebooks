{
 "cells": [
  {
   "cell_type": "code",
   "execution_count": null,
   "metadata": {
    "collapsed": false
   },
   "outputs": [],
   "source": [
    "%matplotlib inline\n",
    "import scipy as sp\n",
    "from scipy.interpolate import interp1d\n",
    "import iminuit\n",
    "from matplotlib.pyplot import errorbar, plot, contourf, hist2d\n",
    "from scipy import random\n",
    "import emcee\n",
    "import corner"
   ]
  },
  {
   "cell_type": "code",
   "execution_count": null,
   "metadata": {
    "collapsed": false
   },
   "outputs": [],
   "source": [
    "data=loadtxt('data/SCPUnion2.1_mu_vs_z.txt',usecols=(1,2,3))\n",
    "z = data[:,0]\n",
    "M = data[:,1]\n",
    "dM = data[:,2]\n",
    "## plot data:\n",
    "errorbar(z, M, yerr = dM, fmt = \"o\")"
   ]
  },
  {
   "cell_type": "code",
   "execution_count": null,
   "metadata": {
    "collapsed": true
   },
   "outputs": [],
   "source": [
    "def hubble(z, H0, Om, OL):\n",
    "    return H0*sp.sqrt(Om*(1+z)**3 + OL + (1-Om-OL)*(1+z)**2)"
   ]
  },
  {
   "cell_type": "code",
   "execution_count": null,
   "metadata": {
    "collapsed": true
   },
   "outputs": [],
   "source": [
    "nbins=10000\n",
    "zmax = 2.\n",
    "zs = sp.arange(nbins, dtype=float)/(nbins-1)*zmax\n",
    "dz = zmax/nbins\n",
    "c = 300000. ## km/s\n",
    "def D_L(H0, Om, OL):\n",
    "    chi = (dz*H0/hubble(zs, H0, Om, OL)).cumsum()\n",
    "    chi = interp1d(zs, chi)(z)\n",
    "    Ok = 1-Om-OL\n",
    "    if Ok==0:\n",
    "        return c/H0*(1+z)*chi\n",
    "    if Ok > 0:\n",
    "        return c/H0*(1+z)*sp.sinh(sp.sqrt(Ok)*chi)/sp.sqrt(Ok)\n",
    "    if Ok<0:\n",
    "        return c/H0*(1+z)*sp.sin(sp.sqrt(-Ok)*chi)/sp.sqrt(-Ok)\n",
    "    "
   ]
  },
  {
   "cell_type": "code",
   "execution_count": null,
   "metadata": {
    "collapsed": true
   },
   "outputs": [],
   "source": [
    "## distance modulus\n",
    "def mu(H0, Om, OL):\n",
    "    d_pc = D_L(H0, Om, OL)*1e6\n",
    "    return 5*sp.log10(d_pc)-5"
   ]
  },
  {
   "cell_type": "code",
   "execution_count": null,
   "metadata": {
    "collapsed": false
   },
   "outputs": [],
   "source": [
    "errorbar(z, M, yerr = dM, fmt = \"o\")\n",
    "plot(z, mu(70., 0.3, 0.7),\"o\")\n",
    "grid()"
   ]
  },
  {
   "cell_type": "code",
   "execution_count": null,
   "metadata": {
    "collapsed": true
   },
   "outputs": [],
   "source": [
    "def chi2(H0, Om, OL):\n",
    "    res = (M - mu(H0, Om, OL))/dM\n",
    "    return (res**2).sum()"
   ]
  },
  {
   "cell_type": "code",
   "execution_count": null,
   "metadata": {
    "collapsed": true
   },
   "outputs": [],
   "source": [
    "mig = iminuit.Minuit(chi2, H0=70., Om=0.3, \n",
    "        OL=0.7, error_H0=1, error_Om=0.1, error_OL=0.1,\n",
    "        errordef=1, fix_H0=True, limit_Om=(0,1), limit_OL=(0,1))"
   ]
  },
  {
   "cell_type": "code",
   "execution_count": null,
   "metadata": {
    "collapsed": false
   },
   "outputs": [],
   "source": [
    "fmin = mig.migrad()"
   ]
  },
  {
   "cell_type": "code",
   "execution_count": null,
   "metadata": {
    "collapsed": false
   },
   "outputs": [],
   "source": [
    "nOm = 40\n",
    "Om = 0.5*sp.arange(nOm, dtype=float)/(nOm-1)\n",
    "nOL = 40\n",
    "OL = 0.2+0.8*sp.arange(nOL, dtype=float)/(nOL-1)\n",
    "chi2_scan = sp.zeros((nOL, nOm))\n",
    "for i in range(nOm):\n",
    "    for j in range(nOL):\n",
    "        chi2_scan[j, i] = chi2(70., Om[i], OL[j])-mig.fval\n",
    "        "
   ]
  },
  {
   "cell_type": "code",
   "execution_count": null,
   "metadata": {
    "collapsed": false
   },
   "outputs": [],
   "source": [
    "contour(Om, OL, chi2_scan, levels=[2.3, 6], colors=\"k\")\n",
    "plot(Om,1-Om,\"k--\")"
   ]
  },
  {
   "cell_type": "code",
   "execution_count": null,
   "metadata": {
    "collapsed": true
   },
   "outputs": [],
   "source": [
    "def lnprob(pars):\n",
    "    H0 = pars[0]\n",
    "    Om = pars[1]\n",
    "    OL = pars[2]\n",
    "    return -0.5*chi2(H0, Om, OL)"
   ]
  },
  {
   "cell_type": "code",
   "execution_count": null,
   "metadata": {
    "collapsed": false
   },
   "outputs": [],
   "source": [
    "ndim, nwalkers = 3, 50\n",
    "Om0 = 0.3 + 0.01*random.randn(nwalkers)\n",
    "OL0 = 0.7 + 0.01*random.randn(nwalkers)\n",
    "H0 = 70. + 0.01*random.rand(nwalkers)\n",
    "sampler = emcee.EnsembleSampler(nwalkers, ndim, lnprob)"
   ]
  },
  {
   "cell_type": "code",
   "execution_count": null,
   "metadata": {
    "collapsed": false
   },
   "outputs": [],
   "source": [
    "pos, prob, state = sampler.run_mcmc(sp.array([H0, Om0, OL0]).T, 500)"
   ]
  },
  {
   "cell_type": "code",
   "execution_count": null,
   "metadata": {
    "collapsed": false
   },
   "outputs": [],
   "source": [
    "for i in range(nwalkers):\n",
    "    plot(sampler.chain[i,:,1],\"k\")"
   ]
  },
  {
   "cell_type": "code",
   "execution_count": null,
   "metadata": {
    "collapsed": false
   },
   "outputs": [],
   "source": [
    "_=hist2d(sampler.chain[:,50:,1].flatten(), sampler.chain[:,50:,2].flatten(), bins=40)"
   ]
  },
  {
   "cell_type": "code",
   "execution_count": null,
   "metadata": {
    "collapsed": false
   },
   "outputs": [],
   "source": [
    "_=hist(sampler.chain[:,20:,1].flatten(), bins=100)"
   ]
  },
  {
   "cell_type": "code",
   "execution_count": null,
   "metadata": {
    "collapsed": false
   },
   "outputs": [],
   "source": [
    "samples = sampler.chain[:,10:,:].reshape([-1, ndim])"
   ]
  },
  {
   "cell_type": "code",
   "execution_count": null,
   "metadata": {
    "collapsed": false
   },
   "outputs": [],
   "source": [
    "corner.corner(samples[:,:])"
   ]
  },
  {
   "cell_type": "code",
   "execution_count": null,
   "metadata": {
    "collapsed": true
   },
   "outputs": [],
   "source": []
  }
 ],
 "metadata": {
  "anaconda-cloud": {},
  "kernelspec": {
   "display_name": "Python [conda env:anaconda2]",
   "language": "python",
   "name": "conda-env-anaconda2-py"
  },
  "language_info": {
   "codemirror_mode": {
    "name": "ipython",
    "version": 2
   },
   "file_extension": ".py",
   "mimetype": "text/x-python",
   "name": "python",
   "nbconvert_exporter": "python",
   "pygments_lexer": "ipython2",
   "version": "2.7.12"
  }
 },
 "nbformat": 4,
 "nbformat_minor": 1
}
