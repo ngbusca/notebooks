{
 "cells": [
  {
   "cell_type": "markdown",
   "metadata": {},
   "source": [
    "## In this notebook we will explore the Central Limit Theorem\n",
    "\n",
    "We saw in class that if we are given $N$ random variables $\\{y_i\\}$, \n",
    "with mean $\\mu$ and variance $\\sigma^2$, then the probability distribution\n",
    "function of the sample average:\n",
    "\n",
    "$\\bar{y}\\equiv\\frac{1}{N}\\sum_iy_i$\n",
    "\n",
    "tends to a gaussian distribution as $N\\rightarrow\\infty$ of mean $\\mu$ \n",
    "and variance $\\sigma^2/N$\n",
    "\n",
    "Let's try to visualize this with a simple example. We will consider\n",
    "variables $y$ drawn from a uniform distribution and will look at\n",
    "the distribution of the sample mean of $N$ of them for different values of $N$.\n",
    "\n",
    "Gaussian distributions are very powerful!!\n",
    "\n",
    "For simplicity we will take a uniform distribution for $y \\in [-1,1]$. It has\n",
    "a mean $\\mu=0$ and a variance $\\sigma^2=1/3$ (_homework_: check this!). \n",
    "Change the value of $N$ below to see if/how the distribution converges to a gaussian."
   ]
  },
  {
   "cell_type": "code",
   "execution_count": null,
   "metadata": {
    "collapsed": true
   },
   "outputs": [],
   "source": [
    "%matplotlib inline\n",
    "import scipy as sp\n",
    "from scipy import random\n",
    "from matplotlib.pyplot import hist,plot"
   ]
  },
  {
   "cell_type": "code",
   "execution_count": null,
   "metadata": {
    "collapsed": false
   },
   "outputs": [],
   "source": [
    "## do NMC Monte-Carlo realizations\n",
    "NMC = 10000\n",
    "## N is the number of samples that we will average\n",
    "N = 1\n",
    "y = sp.zeros(NMC)\n",
    "for i in range(NMC):\n",
    "    y[i] = sp.mean(-1+2*random.rand(N))\n",
    "    \n",
    "## draw a histogram of the average values of y:\n",
    "_=hist(y, bins=50,normed=True)\n",
    "\n",
    "## let's overplot a gaussian of zero mean\n",
    "## define the x values\n",
    "x=-4/scipy.sqrt(N)+8/scipy.sqrt(N)*sp.arange(100)/99.\n",
    "## the gaussian\n",
    "mu=0\n",
    "sigma = 1./sp.sqrt(3*N)\n",
    "gaussian = 1/sqrt(2*scipy.pi)/sigma*scipy.exp(-(x-mu)**2/2/sigma**2)\n",
    "plot(x,1/sqrt(2*scipy.pi*1./3/N)*scipy.exp(-x**2/2/(1./3/N)))"
   ]
  },
  {
   "cell_type": "code",
   "execution_count": null,
   "metadata": {
    "collapsed": true
   },
   "outputs": [],
   "source": []
  }
 ],
 "metadata": {
  "anaconda-cloud": {},
  "kernelspec": {
   "display_name": "Python [conda env:anaconda2]",
   "language": "python",
   "name": "conda-env-anaconda2-py"
  },
  "language_info": {
   "codemirror_mode": {
    "name": "ipython",
    "version": 2
   },
   "file_extension": ".py",
   "mimetype": "text/x-python",
   "name": "python",
   "nbconvert_exporter": "python",
   "pygments_lexer": "ipython2",
   "version": "2.7.12"
  }
 },
 "nbformat": 4,
 "nbformat_minor": 1
}
